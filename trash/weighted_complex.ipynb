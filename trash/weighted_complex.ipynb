{
 "cells": [
  {
   "cell_type": "code",
   "execution_count": 18,
   "metadata": {},
   "outputs": [
    {
     "data": {
      "image/png": "[encoded data removed]",
      "text/plain": [
       "<Figure size 432x288 with 2 Axes>"
      ]
     },
     "metadata": {
      "needs_background": "light"
     },
     "output_type": "display_data"
    }
   ],
   "source": [
    "import numpy as np\n",
    "import matplotlib.pyplot as plt\n",
    "from persistence import * \n",
    "from apparent_pairs import * \n",
    "theta = np.linspace(0, 2*np.pi, 12, endpoint=False)\n",
    "circle = np.c_[np.cos(theta), np.sin(theta)]\n",
    "r = np.min(pdist(circle))*0.55\n",
    "K = rips(circle, r, d=1)\n",
    "fig, axs = plt.subplots(1, 2)\n",
    "axs[0].scatter(*circle.T)\n",
    "for u, v in K['edges']: axs[1].plot(*circle[(u,v),:].T)\n",
    "axs[1].scatter(*circle.T)\n",
    "axs[0].set_aspect('equal')\n",
    "axs[1].set_aspect('equal')"
   ]
  },
  {
   "cell_type": "code",
   "execution_count": 33,
   "metadata": {},
   "outputs": [],
   "source": [
    "## Parameterization of the circle defined on [0, \\infty)\n",
    "def circle_family(n: int):\n",
    "  theta = np.linspace(0, 2*np.pi, 12, endpoint=False)\n",
    "  unit_circle = np.c_[np.cos(theta), np.sin(theta)]\n",
    "  def circle(t: float):\n",
    "    t = np.max([t, 0])\n",
    "    return(unit_circle @ np.diag([t, t]))\n",
    "  return(circle)"
   ]
  },
  {
   "cell_type": "code",
   "execution_count": 42,
   "metadata": {},
   "outputs": [],
   "source": [
    "from apparent_pairs import *\n",
    "\n",
    "def weighted_H1(K: List, t: float):\n",
    "  D = boundary_matrix(K, p=1)\n",
    "  ew = pdist(f(t))[rank_combs(K['edges'], n=len(K['vertices']), k=2)]\n",
    "  D.data = np.sign(D.data) * (2.0 - np.repeat(ew, 2))\n",
    "  return(D)\n",
    "\n",
    "def boundary_jacobian(K, f, t: float, h: float = 100*np.sqrt(np.finfo(float).eps)):\n",
    "  D = boundary_matrix(K, p=1)\n",
    "  edge_ind = rank_combs(K['edges'], n=len(K['vertices']), k=2)\n",
    "  ew_p = np.maximum(2.0 - pdist(f(t + h))[edge_ind], 0.0)\n",
    "  ew_m = np.maximum(2.0 - pdist(f(t - h))[edge_ind], 0.0)\n",
    "  ew_p = np.sign(D.data) * np.repeat(ew_p, 2)\n",
    "  ew_m = np.sign(D.data) * np.repeat(ew_m, 2)\n",
    "  D.data = (ew_p - ew_m)/(2*h)\n",
    "  return(D)"
   ]
  },
  {
   "cell_type": "code",
   "execution_count": 49,
   "metadata": {},
   "outputs": [
    {
     "data": {
      "text/plain": [
       "array([[ 1.00000000e+00,  0.00000000e+00],\n",
       "       [ 8.66025404e-01,  5.00000000e-01],\n",
       "       [ 5.00000000e-01,  8.66025404e-01],\n",
       "       [ 6.12323400e-17,  1.00000000e+00],\n",
       "       [-5.00000000e-01,  8.66025404e-01],\n",
       "       [-8.66025404e-01,  5.00000000e-01],\n",
       "       [-1.00000000e+00,  1.22464680e-16],\n",
       "       [-8.66025404e-01, -5.00000000e-01],\n",
       "       [-5.00000000e-01, -8.66025404e-01],\n",
       "       [-1.83697020e-16, -1.00000000e+00],\n",
       "       [ 5.00000000e-01, -8.66025404e-01],\n",
       "       [ 8.66025404e-01, -5.00000000e-01]])"
      ]
     },
     "execution_count": 49,
     "metadata": {},
     "output_type": "execute_result"
    }
   ],
   "source": [
    "## Show 1-parameter family persistent Betti numbers vs relaxation\n",
    "\n",
    "f = circle_family(16)\n",
    "f(1.0)\n",
    "# boundary_jacobian(K, f, 2.0).A"
   ]
  },
  {
   "cell_type": "code",
   "execution_count": null,
   "metadata": {},
   "outputs": [],
   "source": [
    "# np.linalg.svd() + Jacobian \n"
   ]
  },
  {
   "cell_type": "code",
   "execution_count": null,
   "metadata": {},
   "outputs": [],
   "source": [
    "# D1, ew = weighted_H1(X, K, b, sorted=True)\n",
    "# D2, tw = weighted_H2(X, K, d, sorted=True)\n",
    "# R1, R2, V1, V2 = reduction_pHcol(D1, D2, clearing=True)"
   ]
  }
 ],
 "metadata": {
  "interpreter": {
   "hash": "2826baa23341e820840793a691879fa5f77e9fc228477039517ba5ccd9c9ad08"
  },
  "kernelspec": {
   "display_name": "Python 3.9.7 64-bit ('tallem': conda)",
   "language": "python",
   "name": "python3"
  },
  "language_info": {
   "codemirror_mode": {
    "name": "ipython",
    "version": 3
   },
   "file_extension": ".py",
   "mimetype": "text/x-python",
   "name": "python",
   "nbconvert_exporter": "python",
   "pygments_lexer": "ipython3",
   "version": "3.9.7"
  },
  "orig_nbformat": 4
 },
 "nbformat": 4,
 "nbformat_minor": 2
}
